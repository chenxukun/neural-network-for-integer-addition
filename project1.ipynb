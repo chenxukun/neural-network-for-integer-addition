{
 "cells": [
  {
   "cell_type": "code",
   "execution_count": 4,
   "metadata": {
    "collapsed": true
   },
   "outputs": [],
   "source": [
    "# import random\n",
    "# def createTestData2(count, skipNums):\n",
    "#     xfile = open(\"testInput.txt\", \"w\" )\n",
    "#     yfile = open(\"testOutput.txt\",\"w\")\n",
    "#     i=0;\n",
    "#     while(i<count):\n",
    "#         i+=1\n",
    "#         a=skipNums[random.randrange(len(skipNums))]\n",
    "#         b=skipNums[random.randrange(len(skipNums))]\n",
    "#         c=a+b\n",
    "#         xfile.write(str(a)+\"\\t\"+str(b)+\"\\n\")\n",
    "#         yfile.write(str(c)+\"\\n\")\n",
    "\n",
    "#     xfile.close()\n",
    "#     yfile.close()\n",
    "            "
   ]
  },
  {
   "cell_type": "code",
   "execution_count": 5,
   "metadata": {
    "collapsed": true
   },
   "outputs": [],
   "source": [
    "import random\n",
    "def createTestData(count):\n",
    "    xfile = open(\"testInput.txt\", \"w\" )\n",
    "    yfile = open(\"testOutput.txt\",\"w\")\n",
    "\n",
    "    for i in range(0,count):\n",
    "        a = random.randint(0, 100)\n",
    "        b = random.randint(0, 100)\n",
    "        c = a+b\n",
    "        xfile.write(str(a)+\"\\t\"+str(b)+\"\\n\")\n",
    "        yfile.write(str(c)+\"\\n\")\n",
    "\n",
    "    xfile.close()\n",
    "    yfile.close()\n",
    "\n"
   ]
  },
  {
   "cell_type": "code",
   "execution_count": 6,
   "metadata": {
    "collapsed": true
   },
   "outputs": [],
   "source": [
    "import random\n",
    "def createTrainData(count, skipNums):\n",
    "    xfile = open(\"trainInput.txt\", \"w\" )\n",
    "    yfile = open(\"trainOutput.txt\",\"w\")\n",
    "    i = 0\n",
    "    while(i<count):\n",
    "        i+=1\n",
    "        a=random.randint(0,100)\n",
    "        b=random.randint(0,100)\n",
    "        if(a in skipNums or b in skipNums):\n",
    "            i-=1\n",
    "            continue\n",
    "        c=a+b\n",
    "        xfile.write(str(a)+\"\\t\"+str(b)+\"\\n\")\n",
    "        yfile.write(str(c)+\"\\n\")\n",
    "\n",
    "    xfile.close()\n",
    "    yfile.close()\n",
    "            "
   ]
  },
  {
   "cell_type": "code",
   "execution_count": 7,
   "metadata": {
    "collapsed": true
   },
   "outputs": [],
   "source": [
    "def readTrainData():\n",
    "    xfile = open(\"trainInput.txt\", \"r\" )\n",
    "    yfile = open(\"trainOutput.txt\",\"r\")\n",
    "    xdata = []\n",
    "    ydata = []\n",
    "    for line in xfile:\n",
    "        xdata.append(list(map(int,line.split('\\t'))))\n",
    "    for line in yfile:\n",
    "        ydata.append(int(line))\n",
    "    xfile.close()\n",
    "    yfile.close()\n",
    "    return [xdata, ydata]"
   ]
  },
  {
   "cell_type": "code",
   "execution_count": null,
   "metadata": {
    "collapsed": true
   },
   "outputs": [],
   "source": []
  },
  {
   "cell_type": "code",
   "execution_count": 8,
   "metadata": {
    "collapsed": true
   },
   "outputs": [],
   "source": [
    "def readTestData():\n",
    "    xfile = open(\"testInput.txt\", \"r\" )\n",
    "    yfile = open(\"testOutput.txt\",\"r\")\n",
    "    xdata = []\n",
    "    ydata = []\n",
    "    for line in xfile:\n",
    "        xdata.append(list(map(int,line.split('\\t'))))\n",
    "    for line in yfile:\n",
    "        ydata.append(int(line))\n",
    "    xfile.close()\n",
    "    yfile.close()\n",
    "    return [xdata, ydata]"
   ]
  },
  {
   "cell_type": "code",
   "execution_count": 9,
   "metadata": {
    "collapsed": true
   },
   "outputs": [],
   "source": [
    "createTrainData(500000, [10,14,20,50,6])"
   ]
  },
  {
   "cell_type": "code",
   "execution_count": 10,
   "metadata": {
    "collapsed": true
   },
   "outputs": [],
   "source": [
    "createTestData(50000)"
   ]
  },
  {
   "cell_type": "code",
   "execution_count": 11,
   "metadata": {
    "collapsed": false
   },
   "outputs": [],
   "source": [
    "#createTestData2(1000, [10,14,20,50,6])"
   ]
  },
  {
   "cell_type": "code",
   "execution_count": 12,
   "metadata": {
    "collapsed": false
   },
   "outputs": [
    {
     "name": "stderr",
     "output_type": "stream",
     "text": [
      "Using TensorFlow backend.\n"
     ]
    }
   ],
   "source": [
    "%matplotlib inline\n",
    "import matplotlib.pyplot as plt\n",
    "\n",
    "import keras\n",
    "from keras.models import Model, Sequential\n",
    "from keras.layers import *\n",
    "from keras.optimizers import Adam\n",
    "from keras.callbacks import LearningRateScheduler\n",
    "from keras.models import load_model\n",
    "\n",
    "import tensorflow as tf\n",
    "import numpy as np\n",
    "from keras_tqdm import TQDMNotebookCallback"
   ]
  },
  {
   "cell_type": "code",
   "execution_count": 13,
   "metadata": {
    "collapsed": false
   },
   "outputs": [],
   "source": [
    "testData = readTestData()\n",
    "trainData = readTrainData()\n",
    "\n",
    "#print(np.array(trainData[0]))"
   ]
  },
  {
   "cell_type": "code",
   "execution_count": 14,
   "metadata": {
    "collapsed": false
   },
   "outputs": [],
   "source": [
    "def massageInput(inputArr, length):\n",
    "    vectors = np.zeros((len(inputArr), length), dtype=np.float_)\n",
    "    for i in range(len(inputArr)):\n",
    "        vectors[i] = np.zeros(length, dtype=np.float_)\n",
    "        #vectors[i][0] = float(inputArr[i][0])/100.0\n",
    "        #vectors[i][1] = float(inputArr[i][1])/100.0\n",
    "        \n",
    "        vectors[i] = np.asfarray(inputArr[i])/100\n",
    "        #print(vectors[i])\n",
    "        #vectors[i] /= 100\n",
    "    \n",
    "    return vectors"
   ]
  },
  {
   "cell_type": "code",
   "execution_count": null,
   "metadata": {
    "collapsed": true
   },
   "outputs": [],
   "source": []
  },
  {
   "cell_type": "code",
   "execution_count": null,
   "metadata": {
    "collapsed": true
   },
   "outputs": [],
   "source": []
  },
  {
   "cell_type": "code",
   "execution_count": 15,
   "metadata": {
    "collapsed": false,
    "scrolled": true
   },
   "outputs": [
    {
     "data": {
      "text/plain": [
       "array([[ 0.03,  0.46],\n",
       "       [ 0.76,  0.04],\n",
       "       [ 0.92,  0.64],\n",
       "       ..., \n",
       "       [ 0.85,  0.41],\n",
       "       [ 0.3 ,  0.8 ],\n",
       "       [ 0.19,  0.54]])"
      ]
     },
     "execution_count": 15,
     "metadata": {},
     "output_type": "execute_result"
    }
   ],
   "source": [
    "x_train = massageInput(trainData[0],2)\n",
    "x_test = massageInput(testData[0],2)\n",
    "#testData[0]\n",
    "x_test"
   ]
  },
  {
   "cell_type": "code",
   "execution_count": 16,
   "metadata": {
    "collapsed": true
   },
   "outputs": [],
   "source": [
    "n_classes = 201 # MNIST classes for prediction(digits 0-9 )"
   ]
  },
  {
   "cell_type": "code",
   "execution_count": 17,
   "metadata": {
    "collapsed": false
   },
   "outputs": [
    {
     "data": {
      "text/plain": [
       "array([ 0.,  0.,  0.,  0.,  0.,  0.,  0.,  0.,  0.,  0.,  0.,  0.,  0.,\n",
       "        0.,  0.,  0.,  0.,  0.,  0.,  0.,  0.,  0.,  0.,  0.,  0.,  0.,\n",
       "        0.,  0.,  0.,  0.,  0.,  0.,  0.,  0.,  0.,  0.,  0.,  0.,  0.,\n",
       "        0.,  0.,  0.,  0.,  0.,  0.,  0.,  0.,  0.,  0.,  0.,  0.,  0.,\n",
       "        0.,  0.,  0.,  0.,  0.,  1.,  0.,  0.,  0.,  0.,  0.,  0.,  0.,\n",
       "        0.,  0.,  0.,  0.,  0.,  0.,  0.,  0.,  0.,  0.,  0.,  0.,  0.,\n",
       "        0.,  0.,  0.,  0.,  0.,  0.,  0.,  0.,  0.,  0.,  0.,  0.,  0.,\n",
       "        0.,  0.,  0.,  0.,  0.,  0.,  0.,  0.,  0.,  0.,  0.,  0.,  0.,\n",
       "        0.,  0.,  0.,  0.,  0.,  0.,  0.,  0.,  0.,  0.,  0.,  0.,  0.,\n",
       "        0.,  0.,  0.,  0.,  0.,  0.,  0.,  0.,  0.,  0.,  0.,  0.,  0.,\n",
       "        0.,  0.,  0.,  0.,  0.,  0.,  0.,  0.,  0.,  0.,  0.,  0.,  0.,\n",
       "        0.,  0.,  0.,  0.,  0.,  0.,  0.,  0.,  0.,  0.,  0.,  0.,  0.,\n",
       "        0.,  0.,  0.,  0.,  0.,  0.,  0.,  0.,  0.,  0.,  0.,  0.,  0.,\n",
       "        0.,  0.,  0.,  0.,  0.,  0.,  0.,  0.,  0.,  0.,  0.,  0.,  0.,\n",
       "        0.,  0.,  0.,  0.,  0.,  0.,  0.,  0.,  0.,  0.,  0.,  0.,  0.,\n",
       "        0.,  0.,  0.,  0.,  0.,  0.])"
      ]
     },
     "execution_count": 17,
     "metadata": {},
     "output_type": "execute_result"
    }
   ],
   "source": [
    "y_train = keras.utils.to_categorical(trainData[1], n_classes)\n",
    "y_test = keras.utils.to_categorical(testData[1], n_classes)\n",
    "y_train[0]\n"
   ]
  },
  {
   "cell_type": "code",
   "execution_count": 69,
   "metadata": {
    "collapsed": true
   },
   "outputs": [],
   "source": [
    "# Training Parameters for basic MNIST\n",
    "\n",
    "training_epochs = 200\n",
    "batch_size = 1000\n",
    "\n",
    "# Network Parameters\n",
    "n_input = 2 #  data input (img shape: 101+101 flattened to be 202)\n",
    "n_hidden_1 = 40 # 1st layer number of neurons\n",
    "n_hidden_2 = 80 # 2nd layer number of neurons\n",
    "n_hidden_3 = 160 # 2nd layer number of neurons\n",
    "n_hidden_4 = 320 # 2nd layer number of neurons\n"
   ]
  },
  {
   "cell_type": "code",
   "execution_count": 70,
   "metadata": {
    "collapsed": false
   },
   "outputs": [
    {
     "name": "stdout",
     "output_type": "stream",
     "text": [
      "_________________________________________________________________\n",
      "Layer (type)                 Output Shape              Param #   \n",
      "=================================================================\n",
      "input_7 (InputLayer)         (None, 2)                 0         \n",
      "_________________________________________________________________\n",
      "Dense_1 (Dense)              (None, 40)                120       \n",
      "_________________________________________________________________\n",
      "Dense_2 (Dense)              (None, 80)                3280      \n",
      "_________________________________________________________________\n",
      "Dense_3 (Dense)              (None, 160)               12960     \n",
      "_________________________________________________________________\n",
      "Dense_4 (Dense)              (None, 320)               51520     \n",
      "_________________________________________________________________\n",
      "dropout_7 (Dropout)          (None, 320)               0         \n",
      "_________________________________________________________________\n",
      "Outputlayer (Dense)          (None, 201)               64521     \n",
      "=================================================================\n",
      "Total params: 132,401\n",
      "Trainable params: 132,401\n",
      "Non-trainable params: 0\n",
      "_________________________________________________________________\n"
     ]
    }
   ],
   "source": [
    "Inp = Input(shape=(n_input,))\n",
    "x = Dense(n_hidden_1, activation='relu', name = \"Dense_1\")(Inp)\n",
    "\n",
    "x = Dense(n_hidden_2, activation='relu', name = \"Dense_2\")(x)\n",
    "#x = Dropout(0.8)(x)\n",
    "x = Dense(n_hidden_3, activation='relu', name = \"Dense_3\")(x)\n",
    "#x = Dropout(0.8)(x)\n",
    "x = Dense(n_hidden_4, activation='relu', name = \"Dense_4\")(x)\n",
    "x = Dropout(0.8)(x)\n",
    "output = Dense(n_classes, activation='softmax', name = \"Outputlayer\")(x)\n",
    "# This creates a model that includes our input, 3 dense hidden layers, output layer\n",
    "model = Model(Inp, output)\n",
    "model.summary()"
   ]
  },
  {
   "cell_type": "code",
   "execution_count": 71,
   "metadata": {
    "collapsed": false
   },
   "outputs": [],
   "source": [
    "model.compile(loss='categorical_crossentropy',\n",
    "              optimizer='SGD',\n",
    "              metrics=['accuracy'])"
   ]
  },
  {
   "cell_type": "code",
   "execution_count": 72,
   "metadata": {
    "collapsed": true
   },
   "outputs": [],
   "source": [
    "learning_rate = .4\n",
    "K.set_value(model.optimizer.lr, learning_rate)"
   ]
  },
  {
   "cell_type": "code",
   "execution_count": 73,
   "metadata": {
    "collapsed": false
   },
   "outputs": [
    {
     "name": "stdout",
     "output_type": "stream",
     "text": [
      "0.4\n",
      "0.398\n",
      "0.396\n",
      "0.394\n",
      "0.392\n",
      "0.39\n",
      "0.388\n",
      "0.386\n",
      "0.384\n",
      "0.382\n",
      "0.38\n",
      "0.378\n",
      "0.376\n",
      "0.37400000000000005\n",
      "0.372\n",
      "0.37000000000000005\n",
      "0.36800000000000005\n",
      "0.36600000000000005\n",
      "0.36400000000000005\n",
      "0.36200000000000004\n",
      "0.36000000000000004\n",
      "0.35800000000000004\n",
      "0.35600000000000004\n",
      "0.35400000000000004\n",
      "0.35200000000000004\n",
      "0.35000000000000003\n",
      "0.34800000000000003\n",
      "0.34600000000000003\n",
      "0.34400000000000003\n",
      "0.342\n",
      "0.34\n",
      "0.338\n",
      "0.336\n",
      "0.334\n",
      "0.332\n",
      "0.33\n",
      "0.32800000000000007\n",
      "0.326\n",
      "0.32400000000000007\n",
      "0.322\n",
      "0.32000000000000006\n",
      "0.31800000000000006\n",
      "0.31600000000000006\n",
      "0.31400000000000006\n",
      "0.31200000000000006\n",
      "0.31000000000000005\n",
      "0.30800000000000005\n",
      "0.30600000000000005\n",
      "0.30400000000000005\n",
      "0.30200000000000005\n",
      "0.30000000000000004\n",
      "0.298\n",
      "0.296\n",
      "0.294\n",
      "0.292\n",
      "0.29\n",
      "0.288\n",
      "0.28600000000000003\n",
      "0.284\n",
      "0.28200000000000003\n",
      "0.27999999999999997\n",
      "0.278\n",
      "0.27599999999999997\n",
      "0.274\n",
      "0.27199999999999996\n",
      "0.27\n",
      "0.26799999999999996\n",
      "0.266\n",
      "0.26399999999999996\n",
      "0.262\n",
      "0.26\n",
      "0.258\n",
      "0.256\n",
      "0.254\n",
      "0.252\n",
      "0.25\n",
      "0.248\n",
      "0.246\n",
      "0.244\n",
      "0.242\n",
      "0.24\n",
      "0.238\n",
      "0.23600000000000004\n",
      "0.23399999999999999\n",
      "0.23200000000000004\n",
      "0.22999999999999998\n",
      "0.22800000000000004\n",
      "0.22599999999999998\n",
      "0.22400000000000003\n",
      "0.22199999999999998\n",
      "0.22000000000000003\n",
      "0.21799999999999997\n",
      "0.21600000000000003\n",
      "0.21399999999999997\n",
      "0.21200000000000002\n",
      "0.21000000000000002\n",
      "0.20800000000000002\n",
      "0.20600000000000002\n",
      "0.20400000000000001\n",
      "0.202\n",
      "0.2\n",
      "0.198\n",
      "0.196\n",
      "0.194\n",
      "0.192\n",
      "0.19\n",
      "0.188\n",
      "0.186\n",
      "0.184\n",
      "0.182\n",
      "0.18\n",
      "0.178\n",
      "0.176\n",
      "0.17400000000000004\n",
      "0.17200000000000004\n",
      "0.17000000000000004\n",
      "0.16800000000000004\n",
      "0.16600000000000004\n",
      "0.16400000000000003\n",
      "0.16200000000000003\n",
      "0.16000000000000003\n",
      "0.15800000000000003\n",
      "0.15600000000000003\n",
      "0.15400000000000003\n",
      "0.15200000000000002\n",
      "0.15000000000000002\n",
      "0.148\n",
      "0.146\n",
      "0.144\n",
      "0.142\n",
      "0.13999999999999999\n",
      "0.13799999999999998\n",
      "0.13599999999999998\n",
      "0.13399999999999998\n",
      "0.13199999999999998\n",
      "0.12999999999999998\n",
      "0.12799999999999997\n",
      "0.12599999999999997\n",
      "0.12400000000000003\n",
      "0.12200000000000003\n",
      "0.12000000000000002\n",
      "0.11800000000000002\n",
      "0.11600000000000002\n",
      "0.11400000000000002\n",
      "0.11200000000000002\n",
      "0.11000000000000001\n",
      "0.10800000000000001\n",
      "0.10600000000000001\n",
      "0.10400000000000001\n",
      "0.10200000000000001\n",
      "0.1\n",
      "0.098\n",
      "0.096\n",
      "0.094\n",
      "0.092\n",
      "0.09\n",
      "0.088\n",
      "0.086\n",
      "0.08399999999999999\n",
      "0.08199999999999999\n",
      "0.07999999999999999\n",
      "0.07799999999999999\n",
      "0.07599999999999998\n",
      "0.07400000000000002\n",
      "0.07200000000000002\n",
      "0.07000000000000002\n",
      "0.06800000000000002\n",
      "0.06600000000000002\n",
      "0.06400000000000002\n",
      "0.06200000000000001\n",
      "0.06000000000000001\n",
      "0.05800000000000001\n",
      "0.05600000000000001\n",
      "0.054000000000000006\n",
      "0.052000000000000005\n",
      "0.05\n",
      "0.048\n",
      "0.046\n",
      "0.044\n",
      "0.041999999999999996\n",
      "0.04\n",
      "0.04\n",
      "0.04\n",
      "0.04\n",
      "0.04\n",
      "0.04\n",
      "0.04\n",
      "0.04\n",
      "0.04\n",
      "0.04\n",
      "0.04\n",
      "0.04\n",
      "0.04\n",
      "0.04\n",
      "0.04\n",
      "0.04\n",
      "0.04\n",
      "0.04\n",
      "0.04\n",
      "0.04\n"
     ]
    }
   ],
   "source": [
    "def step_decay(epoch):\n",
    "    drop_every = 10\n",
    "    decay_rate = (learning_rate*(1- epoch/training_epochs))\n",
    "    if(decay_rate < 0.04):\n",
    "        decay_rate = 0.04\n",
    "    return decay_rate\n",
    "for i in range(0,200):\n",
    "    print(step_decay(i))\n",
    "# def scheduler(epoch):\n",
    "#     if epoch >= 80 and epoch < 120:\n",
    "#         K.set_value(model.optimizer.lr, .1)\n",
    "#     elif epoch >=120 and epoch < 150:\n",
    "#         K.set_value(model.optimizer.lr, .075)\n",
    "#     else:\n",
    "#         K.set_value(model.optimizer.lr, .05)\n",
    "#     return K.get_value(model.optimizer.lr)\n",
    "change_lr = LearningRateScheduler(step_decay)"
   ]
  },
  {
   "cell_type": "code",
   "execution_count": 74,
   "metadata": {
    "collapsed": false,
    "scrolled": false
   },
   "outputs": [],
   "source": [
    "history = model.fit(x_train, y_train,\n",
    "                    batch_size=batch_size,\n",
    "                    epochs=training_epochs,\n",
    "                    verbose=0, # This is for what we want it to display out as it trains \n",
    "                    validation_data=(x_test, y_test),\n",
    "                    callbacks=[change_lr,TQDMNotebookCallback(leave_inner=True,leave_outer=True)])\n",
    "\n",
    "\n",
    "model.save('my_model1.h5')\n",
    "del model\n",
    "model = load_model('my_model1.h5')"
   ]
  },
  {
   "cell_type": "code",
   "execution_count": 75,
   "metadata": {
    "collapsed": true
   },
   "outputs": [],
   "source": [
    "def plot_train(hist):\n",
    "    h = hist.history\n",
    "    if 'acc' in h:\n",
    "        meas='acc'\n",
    "        loc='lower right'\n",
    "    else:\n",
    "        meas='loss'\n",
    "        loc='upper right'\n",
    "    plt.plot(hist.history[meas])\n",
    "    plt.plot(hist.history['val_'+meas])\n",
    "    plt.title('model '+meas)\n",
    "    plt.ylabel(meas)\n",
    "    plt.xlabel('epoch')\n",
    "    plt.legend(['train', 'validation'], loc=loc)"
   ]
  },
  {
   "cell_type": "code",
   "execution_count": 76,
   "metadata": {
    "collapsed": false
   },
   "outputs": [
    {
     "data": {
      "image/png": "[encoded data removed]",
      "text/plain": [
       "<matplotlib.figure.Figure at 0x7f4b3aad9048>"
      ]
     },
     "metadata": {},
     "output_type": "display_data"
    }
   ],
   "source": [
    "plot_train(history)"
   ]
  },
  {
   "cell_type": "code",
   "execution_count": 97,
   "metadata": {
    "collapsed": false
   },
   "outputs": [
    {
     "data": {
      "text/plain": [
       "array([[  1.17956339e-22,   1.57205120e-19,   6.01677243e-21,\n",
       "          4.70776372e-20,   2.49486300e-20,   2.53346629e-19,\n",
       "          1.85806841e-19,   1.04675761e-17,   1.64334814e-17,\n",
       "          1.69287691e-17,   5.37613301e-18,   2.08658274e-18,\n",
       "          6.95218486e-20,   7.00159221e-17,   1.62500665e-19,\n",
       "          7.47080146e-14,   2.29361302e-18,   4.17157010e-17,\n",
       "          2.95618647e-20,   3.56511238e-17,   7.18941283e-21,\n",
       "          2.32387398e-18,   1.24397786e-21,   1.84795877e-13,\n",
       "          2.58936148e-21,   1.27084741e-14,   1.75502644e-21,\n",
       "          5.19199896e-17,   2.04754101e-21,   2.45373936e-20,\n",
       "          7.96450694e-23,   2.33042447e-19,   5.47790945e-23,\n",
       "          2.27446329e-17,   4.26103079e-22,   7.58657553e-16,\n",
       "          5.69229920e-24,   2.09957341e-18,   1.82494096e-26,\n",
       "          1.04868133e-22,   1.42182317e-27,   3.37114975e-23,\n",
       "          3.93609660e-27,   6.92674179e-21,   3.27787631e-25,\n",
       "          1.45382799e-17,   6.85926871e-29,   9.69031687e-24,\n",
       "          3.78071423e-29,   1.31561382e-27,   1.74961888e-28,\n",
       "          3.74506245e-27,   3.61040319e-30,   3.30447219e-22,\n",
       "          3.94060551e-26,   5.14797715e-18,   2.50532430e-28,\n",
       "          8.96591789e-22,   1.02007609e-29,   4.67515758e-27,\n",
       "          3.72113438e-29,   2.07605535e-25,   1.65573431e-29,\n",
       "          1.61569003e-21,   4.37842108e-27,   1.10496447e-16,\n",
       "          5.59593751e-29,   8.26603141e-22,   6.69104700e-30,\n",
       "          2.67178560e-25,   5.56415991e-28,   6.45985447e-22,\n",
       "          5.69768446e-25,   6.32461873e-16,   1.01109275e-20,\n",
       "          4.97410750e-12,   1.22095940e-22,   9.55306364e-13,\n",
       "          2.27312068e-23,   2.93783797e-21,   3.11772744e-26,\n",
       "          6.35214247e-21,   1.03451150e-24,   1.67676511e-16,\n",
       "          8.93944953e-22,   8.14359431e-14,   1.32181407e-23,\n",
       "          7.15154735e-16,   5.62368290e-25,   1.82541605e-24,\n",
       "          1.15846342e-27,   1.29856532e-21,   1.65907033e-24,\n",
       "          4.93866737e-19,   1.27341903e-22,   2.19598543e-15,\n",
       "          4.25196580e-24,   7.16456129e-19,   5.01795115e-27,\n",
       "          1.09866374e-24,   1.94660525e-29,   1.87209673e-21,\n",
       "          4.20034104e-26,   7.79017763e-20,   2.77458611e-24,\n",
       "          1.14181563e-16,   1.25963806e-25,   4.68949950e-20,\n",
       "          4.40298581e-30,   1.78537889e-29,   6.36733262e-35,\n",
       "          1.85104285e-27,   3.67093441e-33,   1.15037503e-25,\n",
       "          8.22440853e-32,   8.80344133e-22,   1.47884771e-32,\n",
       "          3.04395070e-25,   9.90029921e-33,   5.10527165e-31,\n",
       "          9.55836260e-33,   9.05365975e-30,   6.34084928e-32,\n",
       "          4.58826578e-27,   3.32293621e-32,   1.52390209e-23,\n",
       "          3.95547127e-33,   2.25651948e-27,   1.34570951e-33,\n",
       "          5.84944679e-32,   2.20338517e-31,   5.05022707e-29,\n",
       "          7.82688293e-33,   2.10020565e-26,   8.64580797e-33,\n",
       "          1.59790340e-20,   1.26781968e-31,   1.32992295e-21,\n",
       "          3.82039275e-30,   7.08641301e-27,   2.45162670e-26,\n",
       "          2.31038314e-20,   1.07806274e-25,   3.37321488e-19,\n",
       "          5.53718485e-28,   1.55712745e-15,   2.01232974e-23,\n",
       "          8.09049550e-13,   1.60325738e-21,   2.19251782e-17,\n",
       "          7.03998750e-20,   3.44432707e-12,   4.69573394e-18,\n",
       "          3.61845931e-09,   2.21122102e-19,   3.33133613e-07,\n",
       "          6.49857971e-16,   2.62979942e-04,   2.30208529e-14,\n",
       "          2.51754440e-09,   1.38446654e-13,   4.99653725e-05,\n",
       "          1.53100258e-11,   4.32774471e-03,   1.74457294e-14,\n",
       "          1.12927414e-03,   4.20933774e-12,   9.93329704e-01,\n",
       "          1.21069835e-10,   2.92699860e-06,   8.34172106e-11,\n",
       "          4.27681720e-04,   1.03113395e-11,   2.17914101e-04,\n",
       "          1.85293963e-16,   1.02133015e-06,   6.79144029e-15,\n",
       "          2.50357785e-04,   6.05074394e-14,   1.14938858e-09,\n",
       "          4.56117721e-14,   8.98549324e-09,   3.69008871e-16,\n",
       "          4.55050719e-10,   4.81508458e-21,   6.10014947e-12,\n",
       "          6.49294491e-19,   8.76153372e-10,   1.62208497e-17,\n",
       "          2.56557657e-14,   2.01754728e-17,   4.14874190e-13,\n",
       "          1.74229388e-19,   1.39944742e-14,   8.19779078e-23,\n",
       "          9.41780105e-15,   5.11900916e-20,   2.80007788e-13,\n",
       "          5.51707714e-18,   4.06205831e-15,   1.15862969e-15]], dtype=float32)"
      ]
     },
     "execution_count": 97,
     "metadata": {},
     "output_type": "execute_result"
    }
   ],
   "source": [
    "model.predict(np.array([[0, 0, 0, 0, 0, 0, 0, 0, 2, 0, 1, 0, 0, 0, 0, 0, 0, 1, 0, 0, 0]]))"
   ]
  }
 ],
 "metadata": {
  "kernelspec": {
   "display_name": "Python 3",
   "language": "python",
   "name": "python3"
  },
  "language_info": {
   "codemirror_mode": {
    "name": "ipython",
    "version": 3
   },
   "file_extension": ".py",
   "mimetype": "text/x-python",
   "name": "python",
   "nbconvert_exporter": "python",
   "pygments_lexer": "ipython3",
   "version": "3.6.0"
  },
  "widgets": {
   "state": {
    "01eeed72678245bd80a6540978faa0f9": {
     "views": [
      {
       "cell_index": 22
      }
     ]
    },
    "0300a33d2e324daea192269f05e5475a": {
     "views": [
      {
       "cell_index": 22
      }
     ]
    },
    "03f18c70edda4c378043f00f0a3bd937": {
     "views": [
      {
       "cell_index": 22
      }
     ]
    },
    "05ace3ebf9a04175915615fa31d3ba8b": {
     "views": [
      {
       "cell_index": 22
      }
     ]
    },
    "05e45e98634249ec8c0d33716d02d724": {
     "views": [
      {
       "cell_index": 22
      }
     ]
    },
    "075f3f886e0e42afbdfe0195f0126a8a": {
     "views": [
      {
       "cell_index": 22
      }
     ]
    },
    "08462affbcf84ca89c6a27c5cfc5f44a": {
     "views": [
      {
       "cell_index": 22
      }
     ]
    },
    "084c26524763436c80c5fa835102afde": {
     "views": [
      {
       "cell_index": 22
      }
     ]
    },
    "09681a1563c045f9bab3caba5c300448": {
     "views": [
      {
       "cell_index": 22
      }
     ]
    },
    "09e4f4f5c2174a9cb5679875ff19a501": {
     "views": [
      {
       "cell_index": 22
      }
     ]
    },
    "0a5962fd8227477cb67b4bed4ac1a59a": {
     "views": [
      {
       "cell_index": 22
      }
     ]
    },
    "0b46e62d2a0e42f4bad0d25767aab53a": {
     "views": [
      {
       "cell_index": 22
      }
     ]
    },
    "0c11e54bb1694daa939148547140651a": {
     "views": [
      {
       "cell_index": 22
      }
     ]
    },
    "0f20cb74200f4fc7a23bf104ba773478": {
     "views": [
      {
       "cell_index": 22
      }
     ]
    },
    "101953990a614084970aa1eb331b62ee": {
     "views": [
      {
       "cell_index": 22
      }
     ]
    },
    "13d8e954e15141fba3a3b582262ccdcc": {
     "views": [
      {
       "cell_index": 22
      }
     ]
    },
    "141b099471de4d46b887e5800558197a": {
     "views": [
      {
       "cell_index": 22
      }
     ]
    },
    "1684413a4fb14a0ca0b1919d420fc2fa": {
     "views": [
      {
       "cell_index": 22
      }
     ]
    },
    "1722818dfd3042619f0e613eae1aca3a": {
     "views": [
      {
       "cell_index": 22
      }
     ]
    },
    "18f6fd319d4540339d57288aad45f47d": {
     "views": [
      {
       "cell_index": 22
      }
     ]
    },
    "1ba308dc8a4d443fb7d4bdd564d7a61a": {
     "views": [
      {
       "cell_index": 22
      }
     ]
    },
    "21c307ec711e4f919469c52d0ff96304": {
     "views": [
      {
       "cell_index": 22
      }
     ]
    },
    "243edbe2c0b848bea30641508cd95c71": {
     "views": [
      {
       "cell_index": 22
      }
     ]
    },
    "2670398b16024320b3169541d664ffa0": {
     "views": [
      {
       "cell_index": 22
      }
     ]
    },
    "27279daa748a44bdaa39972e93212423": {
     "views": [
      {
       "cell_index": 22
      }
     ]
    },
    "2900401fa56547c19d161ae5a16ca384": {
     "views": [
      {
       "cell_index": 22
      }
     ]
    },
    "2f9ed0a7528e4e6589e979bfd2654b2c": {
     "views": [
      {
       "cell_index": 22
      }
     ]
    },
    "2fffc2405ad9440bace43656d253bfc2": {
     "views": [
      {
       "cell_index": 22
      }
     ]
    },
    "32633995325b439882e9e09ab47b3c6e": {
     "views": [
      {
       "cell_index": 22
      }
     ]
    },
    "359441a04f7947b7829618c80576de6f": {
     "views": [
      {
       "cell_index": 22
      }
     ]
    },
    "35cab476013249d281a8aa4df6475142": {
     "views": [
      {
       "cell_index": 22
      }
     ]
    },
    "3889c3d77f9c405fbf79a2d7c30b7cc9": {
     "views": [
      {
       "cell_index": 22
      }
     ]
    },
    "38a14df812cf459c8a53d2275e00ab4d": {
     "views": [
      {
       "cell_index": 22
      }
     ]
    },
    "3c7588ac546047618795e0947afb0dd7": {
     "views": [
      {
       "cell_index": 22
      }
     ]
    },
    "3e9fb168cf034564a3717797a8c2ae11": {
     "views": [
      {
       "cell_index": 22
      }
     ]
    },
    "40883c8b4e9042e694ca527c537f504d": {
     "views": [
      {
       "cell_index": 22
      }
     ]
    },
    "477db18283d049e8823cae955aefc246": {
     "views": [
      {
       "cell_index": 22
      }
     ]
    },
    "478cd43999bb44eb82b8c1a419ffdadc": {
     "views": [
      {
       "cell_index": 22
      }
     ]
    },
    "498ee51f57d544c4825d48b12c278d35": {
     "views": [
      {
       "cell_index": 22
      }
     ]
    },
    "4ca3a6715df8472da6e56ce7a3f1d007": {
     "views": [
      {
       "cell_index": 22
      }
     ]
    },
    "4ccf0ebe13ba42d5ab0cdf358af6c084": {
     "views": [
      {
       "cell_index": 22
      }
     ]
    },
    "5070f31a66e14c158c9fc10981dc641d": {
     "views": [
      {
       "cell_index": 22
      }
     ]
    },
    "52aefcd3576f4d6e8dc1a2c9b3f3b365": {
     "views": [
      {
       "cell_index": 22
      }
     ]
    },
    "530eafd483f748de9498c09ff96c8346": {
     "views": [
      {
       "cell_index": 22
      }
     ]
    },
    "543181d0b2e74799b0788b3ed20aed85": {
     "views": [
      {
       "cell_index": 22
      }
     ]
    },
    "551a7f10515c43cb9acb045a2a43554c": {
     "views": [
      {
       "cell_index": 22
      }
     ]
    },
    "55f411877db446b9a3ea250f44607fd1": {
     "views": [
      {
       "cell_index": 22
      }
     ]
    },
    "58e44ea5ee014c7cae54d33bcf55fd49": {
     "views": [
      {
       "cell_index": 22
      }
     ]
    },
    "5b3aee1d041d472a8a358db5f60b2acf": {
     "views": [
      {
       "cell_index": 22
      }
     ]
    },
    "5dd84bb6325346e19b405c6fd762b4e2": {
     "views": [
      {
       "cell_index": 22
      }
     ]
    },
    "5e31dc183a8b477d9cf0a65a21c6ae21": {
     "views": [
      {
       "cell_index": 22
      }
     ]
    },
    "63f8ec8de4524f5e90fad3d2fc715213": {
     "views": [
      {
       "cell_index": 22
      }
     ]
    },
    "65ab1fcac24643098384d35a38293185": {
     "views": [
      {
       "cell_index": 22
      }
     ]
    },
    "66ac685e9ede43569c5ceb13ec8cb536": {
     "views": [
      {
       "cell_index": 22
      }
     ]
    },
    "67235e032ed94783a5c0591f9563621e": {
     "views": [
      {
       "cell_index": 22
      }
     ]
    },
    "674b2cc3e0424893abde816b36a36c32": {
     "views": [
      {
       "cell_index": 22
      }
     ]
    },
    "67f7a5b591334fe789ca35fd6dd9a746": {
     "views": [
      {
       "cell_index": 22
      }
     ]
    },
    "6d9fc8815ecd4b03969d69999b7d2819": {
     "views": [
      {
       "cell_index": 22
      }
     ]
    },
    "6e1dd68fff7d444d8e33316fcf09f182": {
     "views": [
      {
       "cell_index": 22
      }
     ]
    },
    "6f0dd42f742645278a05cd9e9367fa79": {
     "views": [
      {
       "cell_index": 22
      }
     ]
    },
    "71b221da6d9c420abb630201233c39fc": {
     "views": [
      {
       "cell_index": 22
      }
     ]
    },
    "726adf25325940bebaead110b689e1e3": {
     "views": [
      {
       "cell_index": 22
      }
     ]
    },
    "74a0a64dcfba4e4f9ea96d69fe0a61d6": {
     "views": [
      {
       "cell_index": 22
      }
     ]
    },
    "74ae7bb6cd154d71ac71b4bcaf10905a": {
     "views": [
      {
       "cell_index": 22
      }
     ]
    },
    "74ee290acdfe4fcfa6f11520cb948045": {
     "views": [
      {
       "cell_index": 22
      }
     ]
    },
    "75dd43ceb1654ceb90699028d57acf79": {
     "views": [
      {
       "cell_index": 22
      }
     ]
    },
    "75f57dc1e53147bc979e9161229cc4ee": {
     "views": [
      {
       "cell_index": 22
      }
     ]
    },
    "7aa428f965d845adbf337ce803f89d27": {
     "views": [
      {
       "cell_index": 22
      }
     ]
    },
    "7d50db14779946c3893629020c6e7ef1": {
     "views": [
      {
       "cell_index": 22
      }
     ]
    },
    "7d52925643fc42ccbc41067f8275b3aa": {
     "views": [
      {
       "cell_index": 22
      }
     ]
    },
    "7fec6f14a416425da8a75d9c1111c581": {
     "views": [
      {
       "cell_index": 22
      }
     ]
    },
    "800212d854f148d0b9d8c44012372a53": {
     "views": [
      {
       "cell_index": 22
      }
     ]
    },
    "8074ca7578f847d1bf4f980d0015bca5": {
     "views": [
      {
       "cell_index": 22
      }
     ]
    },
    "80a7e3e2dfc549698e9a281be9117887": {
     "views": [
      {
       "cell_index": 22
      }
     ]
    },
    "81c544b446ae4c7ba7c6a7c5b9f5ecca": {
     "views": [
      {
       "cell_index": 22
      }
     ]
    },
    "86cae4934ca644048cbd199711827fad": {
     "views": [
      {
       "cell_index": 22
      }
     ]
    },
    "8762cbf4798a461b9d8ce28d40480ef8": {
     "views": [
      {
       "cell_index": 22
      }
     ]
    },
    "885813580441452c8df12441abdeafa2": {
     "views": [
      {
       "cell_index": 22
      }
     ]
    },
    "8aacac2ea5eb43a6bf7bab13413bb460": {
     "views": [
      {
       "cell_index": 22
      }
     ]
    },
    "8b4219df7a604cce93aba24d73fcb3bf": {
     "views": [
      {
       "cell_index": 22
      }
     ]
    },
    "8ebe80a8c8e64a608680989404c02a69": {
     "views": [
      {
       "cell_index": 22
      }
     ]
    },
    "8ed61ae8725e4a7196e93b009a2ff93c": {
     "views": [
      {
       "cell_index": 22
      }
     ]
    },
    "8fe69ae74682495392506ce32c448e96": {
     "views": [
      {
       "cell_index": 22
      }
     ]
    },
    "904fcf548fbd4962a25a87d6baeb13e1": {
     "views": [
      {
       "cell_index": 22
      }
     ]
    },
    "9208c1c1fef746dd88a29c352ca00e26": {
     "views": [
      {
       "cell_index": 22
      }
     ]
    },
    "933ecb1050c04ec49a15a78f830f343d": {
     "views": [
      {
       "cell_index": 22
      }
     ]
    },
    "957be73410764f878fa2685625dc7ea9": {
     "views": [
      {
       "cell_index": 22
      }
     ]
    },
    "9725e4f843f74019aa01c3a218146d72": {
     "views": [
      {
       "cell_index": 22
      }
     ]
    },
    "9741926d8a554679816c89d18a5886aa": {
     "views": [
      {
       "cell_index": 22
      }
     ]
    },
    "99741c686c274004ad244d1ebf569d32": {
     "views": [
      {
       "cell_index": 22
      }
     ]
    },
    "99c5692b5b3546249ad6e9fc7392adc8": {
     "views": [
      {
       "cell_index": 22
      }
     ]
    },
    "99f05258841d42d3baa5d710fb9c5b30": {
     "views": [
      {
       "cell_index": 22
      }
     ]
    },
    "9a45ecaf36814626a9dd47d138222fbc": {
     "views": [
      {
       "cell_index": 22
      }
     ]
    },
    "9adf0d185ade42e5bf07fbd9a63b906f": {
     "views": [
      {
       "cell_index": 22
      }
     ]
    },
    "9b5c7ddd476344d5912b58ae339ff723": {
     "views": [
      {
       "cell_index": 22
      }
     ]
    },
    "9c641c1940ca446e839c4d660bd5faaf": {
     "views": [
      {
       "cell_index": 22
      }
     ]
    },
    "a28a4adc24924cf481c3d4e01171a421": {
     "views": [
      {
       "cell_index": 22
      }
     ]
    },
    "a2ff479c4f7f4ec492121e8318e0b142": {
     "views": [
      {
       "cell_index": 22
      }
     ]
    },
    "a31046e2d7dc4aa39ee9283ada2d27ed": {
     "views": [
      {
       "cell_index": 22
      }
     ]
    },
    "a375d1821ec54b10b0c9ac5b516bb170": {
     "views": [
      {
       "cell_index": 22
      }
     ]
    },
    "a37cfa2de4e94c9b8b6daec7a712acd1": {
     "views": [
      {
       "cell_index": 22
      }
     ]
    },
    "a39f9b8507ec4ca2bdf3a52d3829f20a": {
     "views": [
      {
       "cell_index": 22
      }
     ]
    },
    "a413882a2b6d494498f6a0958adce892": {
     "views": [
      {
       "cell_index": 22
      }
     ]
    },
    "a6a203321179491bb9ad95d61e63d508": {
     "views": [
      {
       "cell_index": 22
      }
     ]
    },
    "a9aa23d167524f93b43470483c5955fd": {
     "views": [
      {
       "cell_index": 22
      }
     ]
    },
    "ac3efea0a82a4e06866bd7a5ad2da744": {
     "views": [
      {
       "cell_index": 22
      }
     ]
    },
    "ac7012c7821b4b488fa06a4f44719287": {
     "views": [
      {
       "cell_index": 22
      }
     ]
    },
    "af2c7a372088453796cd484b08703092": {
     "views": [
      {
       "cell_index": 22
      }
     ]
    },
    "afa0dd2167b342ac9cce8cbf6315046f": {
     "views": [
      {
       "cell_index": 22
      }
     ]
    },
    "b32d7d9f61184f7ba950552a1a368c9e": {
     "views": [
      {
       "cell_index": 22
      }
     ]
    },
    "b45e4fdffc604b2fa74e3851060aad90": {
     "views": [
      {
       "cell_index": 22
      }
     ]
    },
    "b5f9f1a4dedf4915956d6792ccde698c": {
     "views": [
      {
       "cell_index": 22
      }
     ]
    },
    "bba8963cc5a6432bbf46e8db2fbd5a5f": {
     "views": [
      {
       "cell_index": 22
      }
     ]
    },
    "bdf0e07380b54e76a4fd83c6d122689d": {
     "views": [
      {
       "cell_index": 22
      }
     ]
    },
    "c005567ae52e4c459ddf84c7b727f144": {
     "views": [
      {
       "cell_index": 22
      }
     ]
    },
    "c0c8297764be492faef66efc25f51fbc": {
     "views": [
      {
       "cell_index": 22
      }
     ]
    },
    "c3385088088b4f9cae617bdaaee4d2d5": {
     "views": [
      {
       "cell_index": 22
      }
     ]
    },
    "c6fcb482368b46cfb5b9eb12427e38bb": {
     "views": [
      {
       "cell_index": 22
      }
     ]
    },
    "c7ee9252cf6a4fe09bf89064fcf6c8e4": {
     "views": [
      {
       "cell_index": 22
      }
     ]
    },
    "cb68ead9e8af4525b69d6019159cba46": {
     "views": [
      {
       "cell_index": 22
      }
     ]
    },
    "ceb1d6e5d1ef47f49c226cf6d249efc3": {
     "views": [
      {
       "cell_index": 22
      }
     ]
    },
    "cf07320d425c46b6920ff33001fa79d7": {
     "views": [
      {
       "cell_index": 22
      }
     ]
    },
    "d0d962bdc0ee46ac8e94062ce449a7de": {
     "views": [
      {
       "cell_index": 22
      }
     ]
    },
    "d244316c108a4e8ea082aae1f285948a": {
     "views": [
      {
       "cell_index": 22
      }
     ]
    },
    "d3bac31479e342c59e70d43abf1b294b": {
     "views": [
      {
       "cell_index": 22
      }
     ]
    },
    "d679c12fb419455daaa1d57fcebdae53": {
     "views": [
      {
       "cell_index": 22
      }
     ]
    },
    "d81b7bea41834df5b3d4c95919a113ce": {
     "views": [
      {
       "cell_index": 22
      }
     ]
    },
    "d932d700a08b460cb581a10d708538b2": {
     "views": [
      {
       "cell_index": 22
      }
     ]
    },
    "da4193858e7b4417a4ff1e77c53ad71a": {
     "views": [
      {
       "cell_index": 22
      }
     ]
    },
    "ddb453968b5e4489a701144a505e6b74": {
     "views": [
      {
       "cell_index": 22
      }
     ]
    },
    "e11a1529b33d440ba0e7cf18e55f06e7": {
     "views": [
      {
       "cell_index": 22
      }
     ]
    },
    "e1e55bab246145608429d248992383b6": {
     "views": [
      {
       "cell_index": 22
      }
     ]
    },
    "e22a8854cd4e4aecba4e70ef27d74c93": {
     "views": [
      {
       "cell_index": 22
      }
     ]
    },
    "e28739dc0f594faf8609d0b7d5d3b976": {
     "views": [
      {
       "cell_index": 22
      }
     ]
    },
    "e436cf3c35814df3854017a8ebf0c123": {
     "views": [
      {
       "cell_index": 22
      }
     ]
    },
    "e47a28e82c304976be166bdf26751874": {
     "views": [
      {
       "cell_index": 22
      }
     ]
    },
    "e4e8ef54f97c47d0828b633a605f516e": {
     "views": [
      {
       "cell_index": 22
      }
     ]
    },
    "e63dc1e0727c429ba8ff656c755fab9b": {
     "views": [
      {
       "cell_index": 22
      }
     ]
    },
    "e6e541da8ac5450085c03ec0e17adcfc": {
     "views": [
      {
       "cell_index": 22
      }
     ]
    },
    "eab8874c71794b1ea70317003aba9466": {
     "views": [
      {
       "cell_index": 22
      }
     ]
    },
    "eb4ed68c267a4b5b8153c46ac4a28d64": {
     "views": [
      {
       "cell_index": 22
      }
     ]
    },
    "ec57ae9715014d729a269dabdde7e8fe": {
     "views": [
      {
       "cell_index": 22
      }
     ]
    },
    "eea10836a5f94b29beca09556e832ada": {
     "views": [
      {
       "cell_index": 22
      }
     ]
    },
    "f1da48456c8746058a3b61c5bfbc94ce": {
     "views": [
      {
       "cell_index": 22
      }
     ]
    },
    "f232aca5d5294d0ea08f274a33bb747d": {
     "views": [
      {
       "cell_index": 22
      }
     ]
    },
    "f24f84a64ade45ee97df90464b5cb59c": {
     "views": [
      {
       "cell_index": 22
      }
     ]
    },
    "f2c2718313254497b96b054f3ade2715": {
     "views": [
      {
       "cell_index": 22
      }
     ]
    },
    "f357bf85e48f42f09f14530572d47055": {
     "views": [
      {
       "cell_index": 22
      }
     ]
    },
    "f3932c7bab994ed78d16047f1ab79830": {
     "views": [
      {
       "cell_index": 22
      }
     ]
    },
    "f3a2dd3436a74dfd8caac65b57b53e9b": {
     "views": [
      {
       "cell_index": 22
      }
     ]
    },
    "f3efac06292c4a909fb71bac68cd34ca": {
     "views": [
      {
       "cell_index": 22
      }
     ]
    },
    "f4484156b8af407ab29ca564e084a761": {
     "views": [
      {
       "cell_index": 22
      }
     ]
    },
    "f4b30eeaba264d46bedbb505504ce389": {
     "views": [
      {
       "cell_index": 22
      }
     ]
    },
    "f5d20345795540899046b73ab180f0af": {
     "views": [
      {
       "cell_index": 22
      }
     ]
    },
    "f6b11ce845e84ef098a4b5e24269e04c": {
     "views": [
      {
       "cell_index": 22
      }
     ]
    },
    "f84f296b757242eb9e960c226a26c837": {
     "views": [
      {
       "cell_index": 22
      }
     ]
    },
    "fb4f57d2722942f6b988b7d6312fa063": {
     "views": [
      {
       "cell_index": 22
      }
     ]
    },
    "fc7252159148458ca3a5d90c9a22716d": {
     "views": [
      {
       "cell_index": 22
      }
     ]
    },
    "fcc11937704248f9a6eae7d568958262": {
     "views": [
      {
       "cell_index": 22
      }
     ]
    },
    "fd47be32628745ea9cf3ec9b8907b1d1": {
     "views": [
      {
       "cell_index": 22
      }
     ]
    },
    "fe53d4b6e82d42fdb485945d0bfbe605": {
     "views": [
      {
       "cell_index": 22
      }
     ]
    },
    "fec2148faab346f796eb5466dc2f99b3": {
     "views": [
      {
       "cell_index": 22
      }
     ]
    }
   },
   "version": "1.2.0"
  }
 },
 "nbformat": 4,
 "nbformat_minor": 2
}
